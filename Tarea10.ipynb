{
  "nbformat": 4,
  "nbformat_minor": 0,
  "metadata": {
    "colab": {
      "name": "Copia de Jorge Antonio Guzman - Tarea10.ipynb",
      "provenance": [],
      "collapsed_sections": [],
      "include_colab_link": true
    },
    "kernelspec": {
      "name": "python3",
      "display_name": "Python 3"
    },
    "language_info": {
      "name": "python"
    }
  },
  "cells": [
    {
      "cell_type": "markdown",
      "metadata": {
        "id": "view-in-github",
        "colab_type": "text"
      },
      "source": [
        "<a href=\"https://colab.research.google.com/github/JorgeGcode/-Hello-World-/blob/main/Tarea10.ipynb\" target=\"_parent\"><img src=\"https://colab.research.google.com/assets/colab-badge.svg\" alt=\"Open In Colab\"/></a>"
      ]
    },
    {
      "cell_type": "markdown",
      "metadata": {
        "id": "h7zwTx_hihhj"
      },
      "source": [
        "### **TAREA 10**\n",
        "\n",
        "El propósito de esta tarea es ejercitar listas de listas, dicionarios de listas, etc. También el manejo de archivos y algunos rudimentos del análisis de datos,  en particular manejo de APIs.  \n",
        "\n",
        "**IMPORTANTE**\n",
        "- La tarea debe entregarse en este archivo, completando las celdas de código correspondientes.\n",
        "- El código que incorpores *debe* poder ejecutarse en *este* Colab, en caso contrario el ejercicio ***será inválido***. Por favor,  verificá que el código se ejecute sin errores (aún en el caso en que la solución no sea del todo correcta).\n",
        "- Al clicar \"Ejecutar celda\" (el triangulito blanco) en las celdas donde están los test deberían devolverse los resultados correctos.\n",
        "\n",
        "**IMPORTANTE 2**\n",
        "- Escribí las pre y post condiciones.\n",
        "- Incluí `assert` para comprobar el buen tipado del argumento y el cumplimiento de la precondición.\n",
        "- No olvides organizar tu programa incluyendo comentarios, espacios y sangrías de manera adecuada. \n",
        "- Seguí las convenciones respecto de nombres de variables, funciones y constantes.\n",
        "- Evitar la utilización de funciones sofisticadas de Python."
      ]
    },
    {
      "cell_type": "markdown",
      "metadata": {
        "id": "RedsdQwgcq0d"
      },
      "source": [
        "### **Ejercicio 1.** Uso de la biblioteca `json`.\n",
        "\n",
        "Si bien podemos  analizar y extraer información de la web  bajando y  analizando páginas web directamente con Python, algunos sitios nos ofrecen la posibilidad de acceder a la información ya estructurada como json (*Java Script Object Notation*) o como csv (*comma-separated values*). Esto  nos permite importar directamente la información a diccionarios o listas y  de esa forma trabajar en forma más cómoda y consistente. \n",
        "\n",
        "En este ejercicio practicaremos con archivos en formato json. Para ello debemos primero importar la biblioteca `json`. \n",
        "\n",
        "Hay dos métodos importantes para manipular el formato json:\n",
        "\n",
        "- `json.loads('cadena json')`: convierte una cadena de caracteres en formato json  a un diccionario o lista según corresponda. Esto es llamado *deserializar* una cadena.\n",
        "\n",
        "- `json.dumps(diccionario o lista)`: convierte un diccionario o lista a cadena de caracteres (que luego puede ser utilizada como input de `json.loads()`). Esto es llamado *serializar* un objeto.\n",
        "\n",
        "En  la siguiente celda de código hay unos ejemplos muy sencillos del uso de estos dos métodos. \n"
      ]
    },
    {
      "cell_type": "code",
      "metadata": {
        "id": "kwmhsR_PcrDl",
        "colab": {
          "base_uri": "https://localhost:8080/"
        },
        "outputId": "5a38d7b8-326a-41a5-ebec-a5c301e623cd"
      },
      "source": [
        "import json\n",
        "\n",
        "dic = {'a':1}\n",
        "x = json.dumps(dic)\n",
        "print(type(x), x)\n",
        "y = json.loads(x)\n",
        "print(type(y), y)\n",
        "\n",
        "lista = [{'a':1}]\n",
        "x = json.dumps(lista)\n",
        "print(type(x), x)\n",
        "y = json.loads(x)\n",
        "print(type(y), y)\n"
      ],
      "execution_count": null,
      "outputs": [
        {
          "output_type": "stream",
          "name": "stdout",
          "text": [
            "<class 'str'> {\"a\": 1}\n",
            "<class 'dict'> {'a': 1}\n",
            "<class 'str'> [{\"a\": 1}]\n",
            "<class 'list'> [{'a': 1}]\n"
          ]
        }
      ]
    },
    {
      "cell_type": "markdown",
      "metadata": {
        "id": "srpbuBq6o9wq"
      },
      "source": [
        "En  los ejemplos de arriba no trabajamos con archivos externos, pero un procedimiento muy utilizado es leer un archivo json desde la computadora: Por contrapartida, también se puede escribir diccionarios y listas como json en una computadora. \n",
        "\n",
        "Para incorporar un archivo json a nuestro programa se lo debe primero leer y luego al contenido se le debe aplicar el métodos `json.loads()`.\n",
        "\n",
        "Para guardar un archivo json se debe tener un diccionario o lista,  guardar como cadena con `json.dumps()` y después esa cadena guardarla en un archivo.\n",
        "\n",
        "Colab tiene algunos archivos incorporados para experimentar. Si uno cliquea el ícono de directorio que se encuentra  la izquierda, se puede ver que hay un directorio que se llama `sample_data` y que tiene algunos archivos. Como ejemplo nosotros leeremos el archivo  `anscombe.json`, modificaremos su contenido y lo guardaremos en un archivo que se llamará `docu.json`. "
      ]
    },
    {
      "cell_type": "code",
      "metadata": {
        "id": "c04IECwEqIqf",
        "colab": {
          "base_uri": "https://localhost:8080/"
        },
        "outputId": "0ba41497-4d58-41a8-d046-244a3bfb75b0"
      },
      "source": [
        "import json\n",
        "# Lectura\n",
        "with open('./sample_data/anscombe.json', 'r') as F:\n",
        "    cadena_json = F.read()\n",
        "obj_json = json.loads(cadena_json)\n",
        "print(type(obj_json))\n",
        "print(obj_json[0].keys())\n",
        "\n",
        "# Agrandemos cada diccionario  con clave 'prom' donde almacenamos el promedio de X e Y\n",
        "for i in range(len(obj_json)):\n",
        "    x, y = obj_json[i]['X'], obj_json[i]['Y']\n",
        "    prom = (x + y) / 2 \n",
        "    obj_json[i]['prom'] = prom\n",
        "\n",
        "# Escritura\n",
        "cadena_json = json.dumps(obj_json) # es una str\n",
        "with open('./sample_data/docu.json', 'w') as W:\n",
        "    W.write(cadena_json)\n",
        "\n"
      ],
      "execution_count": null,
      "outputs": [
        {
          "output_type": "stream",
          "name": "stdout",
          "text": [
            "<class 'list'>\n",
            "dict_keys(['Series', 'X', 'Y'])\n",
            "9.02\n",
            "7.475\n",
            "10.29\n",
            "8.905000000000001\n",
            "9.665\n",
            "11.98\n",
            "6.62\n",
            "4.13\n",
            "11.42\n",
            "5.904999999999999\n",
            "5.34\n",
            "9.57\n",
            "8.07\n",
            "10.870000000000001\n",
            "8.885\n",
            "10.129999999999999\n",
            "11.05\n",
            "6.0649999999999995\n",
            "3.55\n",
            "10.565000000000001\n",
            "7.13\n",
            "4.87\n",
            "8.73\n",
            "7.385\n",
            "12.870000000000001\n",
            "8.055\n",
            "9.405\n",
            "11.42\n",
            "6.04\n",
            "4.695\n",
            "10.075\n",
            "6.71\n",
            "5.365\n",
            "7.29\n",
            "6.88\n",
            "7.855\n",
            "8.42\n",
            "8.235\n",
            "7.52\n",
            "6.625\n",
            "15.75\n",
            "6.779999999999999\n",
            "7.955\n",
            "7.445\n"
          ]
        }
      ]
    },
    {
      "cell_type": "markdown",
      "metadata": {
        "id": "jTf8uu47uBtJ"
      },
      "source": [
        "Observar que el archivo `./sample_data/docu.json` tiene contenido similar (aunque no el mismo formato) que el archivo `./sample_data/anscombe.json`. \n",
        "\n",
        "*Importante.* Los archivos creados por nosotros y  guardados en Colab (por ejemplo, `./sample_data/docu.json`) son borrados al poco tiempo. \n",
        "\n",
        "En este ejercicio:  \n",
        "1. Hacé un archivo llamado `personas.json` con el siguiente contenido: \n",
        "\n",
        "       {\n",
        "        \"people\" : [\n",
        "          {\n",
        "            \"firstName\": \"Joe\",\n",
        "            \"lastName\": \"Jackson\",\n",
        "            \"gender\": \"male\",\n",
        "            \"age\": 28,\n",
        "            \"number\": \"7349282382\"\n",
        "          },\n",
        "          {\n",
        "            \"firstName\": \"James\",\n",
        "            \"lastName\": \"Smith\",\n",
        "            \"gender\": \"male\",\n",
        "            \"age\": 32,\n",
        "            \"number\": \"5678568567\"\n",
        "          },\n",
        "          {\n",
        "            \"firstName\": \"Emily\",\n",
        "            \"lastName\": \"Jones\",\n",
        "            \"gender\": \"female\",\n",
        "            \"age\": 24,\n",
        "            \"number\": \"456754675\"\n",
        "          }\n",
        "        ]\n",
        "      }\n",
        "3. Subí el archivo a `./sample_data` del Colab.\n",
        "2. Lee el archivo con Python,  transformá el contenido en un diccionario y cambiá  la segunda persona poniendo tus datos personales.\n",
        "3. Guardá el contenido en el directorio `./sample_data` en un archivo llamado `personas_mod.json`.\n",
        "\n",
        "Tanto el archivo subido  como el generado se borrarán del Colab después de un tiempo (al finalizar la sesión). Lo que debe hacerse en 2. y 3. es hacer el programa que permita  ejecutar correctamente el procedimiento una vez que  el archivo `personas.json` sea incorporado al Colab."
      ]
    },
    {
      "cell_type": "code",
      "metadata": {
        "id": "LWNygJjCnxoX",
        "colab": {
          "base_uri": "https://localhost:8080/"
        },
        "outputId": "5b2d24f5-7536-4f3f-a001-637175ed7265"
      },
      "source": [
        "import json\n",
        "# Lectura\n",
        "with open('./sample_data/personas.json', 'r') as F:\n",
        "    cadena_json = F.read()\n",
        "obj_json = json.loads(cadena_json)\n",
        "lista = obj_json[\"people\"]\n",
        "print(lista[1][\"firstName\"])\n",
        "lista[1][\"firstName\"] = \"Jorge\"\n",
        "lista[1][\"lastName\"] = \"Guzman\"\n",
        "lista[1][\"age\"] = \"29\"\n",
        "lista[1][\"number\"] = \"36234783\"\n",
        "print(lista[1][\"firstName\"])\n",
        "for elemento in lista:\n",
        "    print(\"elementos de la Lista:\", elemento)"
      ],
      "execution_count": null,
      "outputs": [
        {
          "output_type": "stream",
          "name": "stdout",
          "text": [
            "James\n",
            "Jorge\n",
            "elementos de la Lista: {'firstName': 'Joe', 'lastName': 'Jackson', 'gender': 'male', 'age': 28, 'number': '7349282382'}\n",
            "elementos de la Lista: {'firstName': 'Jorge', 'lastName': 'Guzman', 'gender': 'male', 'age': '29', 'number': '36234783'}\n",
            "elementos de la Lista: {'firstName': 'Emily', 'lastName': 'Jones', 'gender': 'female', 'age': 24, 'number': '456754675'}\n"
          ]
        }
      ]
    },
    {
      "cell_type": "code",
      "metadata": {
        "colab": {
          "base_uri": "https://localhost:8080/"
        },
        "id": "2k1ba21jq0VL",
        "outputId": "ebfa9b10-5c86-44e0-ebf9-cbcfa1723c4c"
      },
      "source": [
        "lista[1].update({'firstName': \"José\", 'lastName': \"Gomez\", 'gender': \"male\", 'age': \"29\", 'number': \"38002067\"})\n",
        "print(lista)"
      ],
      "execution_count": null,
      "outputs": [
        {
          "output_type": "stream",
          "name": "stdout",
          "text": [
            "[{'firstName': 'Joe', 'lastName': 'Jackson', 'gender': 'male', 'age': 28, 'number': '7349282382'}, {'firstName': 'José', 'lastName': 'Gomez', 'gender': 'male', 'age': '29', 'number': '38002067', 'FirstName': 'José'}, {'firstName': 'Emily', 'lastName': 'Jones', 'gender': 'female', 'age': 24, 'number': '456754675'}]\n"
          ]
        }
      ]
    },
    {
      "cell_type": "markdown",
      "metadata": {
        "id": "jE9fHPDHDhqc"
      },
      "source": [
        "### **Ejercicio 2.** Leer `json` con el uso de  APIs. \n",
        "\n",
        "**Introducción** \n",
        "\n",
        "No pretendemos explicar en pocas palabra un concepto tan amplio como el de API, pero daremos una explicación abreviada, grado útil para nuestros propósitos.\n",
        "\n",
        "Una *Application Programming Interface* (Interfaz de programación de aplicaciones), abreviado como *API* es un conjunto de subrutinas, funciones y procedimientos (o métodos, en la programación orientada a objetos) que ofrece cierta biblioteca para ser utilizado por otro software \n",
        "\n",
        "El término API se utiliza a menudo para referirse a las APIs de la web, que permiten la comunicación entre ordenadores unidos por Internet y en este aspecto es que la usaremos nosotros.\n",
        "\n",
        "En términos prácticos haremos un programa que consulta un sitio web y nos trae datos del mismo. Accedederemos  al sitio web en la forma usual,  con una dirección web,  que contendrá la solicitud de lo que se busca  y,  en algunos casos, una cadena que permitirá saber quien es el usuario. El sitio web nos devoverá los contenidos solicitados y nosotros usaremos una función particular para poder leerlos.\n",
        "\n",
        "Para concultar los sitios web utilizaremos la biblioteca `requests` que,  en nuestro caso particular, nos premitirá hacer consultas utilizando la API.\n",
        "\n",
        "**API del NOAA** \n",
        "\n",
        "La Oficina Nacional de Administración Oceánica y Atmosférica (National Oceanic and Atmospheric Administration, NOAA) es una agencia científica del Departamento de Comercio de los Estados Unidos cuyas actividades se centran en monitorear las condiciones de los océanos y la atmósfera. \n",
        "\n",
        "El NOAA ofrece distintos *datasets* (conjuntos de datos estructurados) sin limitaciones. Los datos puedes ser bajados directamente del sitio web https://www.noaa.gov/ o, alternativamente, accedidos por API. \n",
        "\n",
        "En este ejercicio accederemos a los datasets utilizando la API. Para utilizar la API se debe solicitar  un *token* al NOAA (ver [*Referencias*](#refs)). El token es una cadena de caracteres que funciona como id y password al mismo tiempo. \n",
        "\n",
        "Si al comienzo ponemos \n",
        "\n",
        "    import requests #  nos permite \"preguntar\" con la API\n",
        "    token = 'nuestro token'\n",
        "    my_headers = {'token' : token}\n",
        "    response = requests.get('https://www.ncdc.noaa.gov/cdo-web/api/v2/datasets', headers=my_headers)\n",
        "    respuesta = response.json()\n",
        "    resultados = respuesta['results'] # Datasets disponible\n",
        "    for w in resultados:\n",
        "      pass\n",
        "      print(w['uid'],':',w['name'])\n",
        "\n",
        "obtendremos el `id` de cada uno de los datasets ofrecidos por el NOAA via API y una breve descripción de los mismos. En particular,  son interesantes:\n",
        "\n",
        "    GHCND : Daily Summaries\n",
        "    GSOM : Global Summary of the Month\n",
        "    GSOY : Global Summary of the Year\n",
        "\n",
        "La API permite una variedad de consultas, por ejemplo\n",
        "\n",
        "    response = requests.get('https://www.ncdc.noaa.gov/cdo-web/api/v2/datasets?locationid=CITY:US390029', headers=my_headers)\n",
        "    respuesta = response.json()\n",
        "\n",
        "nos devuelve todos los datasets disponibles para determinada localidad,  en este caso la ciudad nomeclada `US390029`. \n",
        "\n",
        "También podemos obtener datos climatológicos de una determinada localidad durante un período determinado de tiempo. La consulta\n",
        "\n",
        "    response = requests.get('https://www.ncdc.noaa.gov/cdo-web/api/v2/data?datasetid=GHCND&stationid=GHCND:AR000087344&units=metric&startdate=2021-05-01&enddate=2021-05-31', headers=my_headers)\n",
        "    respuesta = response.json()\n",
        "    resultados = respuesta['results']\n",
        "\n",
        "nos devuelve un sumario de temperaturas y precipitaciones diarias en el mes de mayo de la estación meteorológica del Aeropuerto de Córdoba.  \n",
        "\n",
        "En las referencias a continuación se encuentra como obtener el token, la descripción de la API, la lista de estaciones meteorológicas y mucha más información.\n",
        "\n",
        "\n",
        " <a name=\"refs\">*Referencias*</a>\n",
        "\n",
        "- https://www.ncdc.noaa.gov/ National Centers for Environmental Information (37 petabytes)\n",
        "- Documentación de la API: https://www.ncei.noaa.gov/support/access-data-service-api-user-documentation\n",
        "- https://www.ncdc.noaa.gov/ghcn-daily-description\n",
        "  - Para bajar estaciones meteorolgógicas:  https://www1.ncdc.noaa.gov/pub/data/ghcn/daily/ghcnd-stations.txt\n",
        "  - Para bajar manual de ghcn-daily: https://www1.ncdc.noaa.gov/pub/data/ghcn/daily/readme.txt\n",
        "- Para pedir token: https://www.ncdc.noaa.gov/cdo-web/token\n",
        "- Climate Data Online - Web Services Documentation: https://www.ncdc.noaa.gov/cdo-web/webservices/v2#gettingStarted\n",
        "- Manual genérico para uso de APIs en Python: https://www.nylas.com/blog/use-python-requests-module-rest-apis/\n",
        "\n",
        "\n",
        "**Ejemplos de código**"
      ]
    },
    {
      "cell_type": "code",
      "metadata": {
        "id": "NJok7yCO-1Un",
        "colab": {
          "base_uri": "https://localhost:8080/"
        },
        "outputId": "d4c5fb33-861d-4d93-9bc5-046e6b3dc0d3"
      },
      "source": [
        "import requests\n",
        "fecha_ini = \"1970-01-01\"\n",
        "fecha_fin = \"1970-01-31\"\n",
        "token = \"ieOwpGLPBUtCfYUxAVtiGtXslmkVrbjp\"\n",
        "my_headers = {\"token\" : token}\n",
        "# estacion = \"GM000003319\" Berlin-Dahlem\n",
        "response = requests.get('https://www.ncdc.noaa.gov/cdo-web/api/v2/data?datasetid=GHCND&stationid=GHCND:GM000003319&limit=1000&units=metric&startdate='+fecha_ini+'&enddate='+fecha_fin+'', headers=my_headers)\n",
        "# respuesta = response.json()\n",
        "# print(type(response))\n",
        "status = response.status_code\n",
        "if status != 200:\n",
        "    print(\"An error has occured. [Status code\", status, \"]\")\n",
        "else:\n",
        "    data = response.json() #Only convert to Json when status is OK.\n",
        "    if not data[\"results\"]:\n",
        "        print(\"Empty JSON\")\n",
        "    else:\n",
        "        \"You can extract data here\"\n",
        "\n",
        "for element in data[\"results\"]:    \n",
        "    if element[\"datatype\"] == \"TMAX\":\n",
        "      print(\"TMAX:\", element[\"value\"], \"°C\", element[\"date\"])\n",
        "\n"
      ],
      "execution_count": 5,
      "outputs": [
        {
          "output_type": "stream",
          "name": "stdout",
          "text": [
            "TMAX: -11.4 °C 1970-01-01T00:00:00\n",
            "TMAX: -2.8 °C 1970-01-02T00:00:00\n",
            "TMAX: 0.2 °C 1970-01-03T00:00:00\n",
            "TMAX: -1.2 °C 1970-01-04T00:00:00\n",
            "TMAX: -1.4 °C 1970-01-05T00:00:00\n",
            "TMAX: -1.8 °C 1970-01-06T00:00:00\n",
            "TMAX: -3.7 °C 1970-01-07T00:00:00\n",
            "TMAX: -7.7 °C 1970-01-08T00:00:00\n",
            "TMAX: -4.9 °C 1970-01-09T00:00:00\n",
            "TMAX: -0.5 °C 1970-01-10T00:00:00\n",
            "TMAX: 3.1 °C 1970-01-11T00:00:00\n",
            "TMAX: 2.1 °C 1970-01-12T00:00:00\n",
            "TMAX: 3.4 °C 1970-01-13T00:00:00\n",
            "TMAX: 2.6 °C 1970-01-14T00:00:00\n",
            "TMAX: 2.0 °C 1970-01-15T00:00:00\n",
            "TMAX: 1.6 °C 1970-01-16T00:00:00\n",
            "TMAX: -4.5 °C 1970-01-17T00:00:00\n",
            "TMAX: -4.4 °C 1970-01-18T00:00:00\n",
            "TMAX: -6.6 °C 1970-01-19T00:00:00\n",
            "TMAX: -4.0 °C 1970-01-20T00:00:00\n",
            "TMAX: -4.4 °C 1970-01-21T00:00:00\n",
            "TMAX: -5.2 °C 1970-01-22T00:00:00\n",
            "TMAX: -4.4 °C 1970-01-23T00:00:00\n",
            "TMAX: -1.6 °C 1970-01-24T00:00:00\n",
            "TMAX: 2.2 °C 1970-01-25T00:00:00\n",
            "TMAX: 4.1 °C 1970-01-26T00:00:00\n",
            "TMAX: 2.7 °C 1970-01-27T00:00:00\n",
            "TMAX: -0.2 °C 1970-01-28T00:00:00\n",
            "TMAX: -1.8 °C 1970-01-29T00:00:00\n",
            "TMAX: -4.0 °C 1970-01-30T00:00:00\n",
            "TMAX: -7.4 °C 1970-01-31T00:00:00\n"
          ]
        }
      ]
    },
    {
      "cell_type": "code",
      "metadata": {
        "id": "djLa4VQ6EzVV",
        "colab": {
          "base_uri": "https://localhost:8080/"
        },
        "outputId": "2f8787e3-ed86-48f5-9993-9435c74a698a"
      },
      "source": [
        "\n",
        "import requests\n",
        "fecha_ini = \"2019-01-01\"\n",
        "fecha_fin = \"2019-01-31\"\n",
        "token = \"ieOwpGLPBUtCfYUxAVtiGtXslmkVrbjp\"\n",
        "my_headers = {\"token\" : token}\n",
        "# estacion = \"GM000003319\" Berlin-Dahlem\n",
        "response = requests.get('https://www.ncdc.noaa.gov/cdo-web/api/v2/data?datasetid=GHCND&stationid=GHCND:GM000003319&limit=1000&units=metric&startdate='+fecha_ini+'&enddate='+fecha_fin+'', headers=my_headers)\n",
        "# respuesta = response.json()\n",
        "# print(type(response))\n",
        "status = response.status_code\n",
        "if status != 200:\n",
        "    print(\"An error has occured. [Status code\", status, \"]\")\n",
        "else:\n",
        "    data = response.json() #Only convert to Json when status is OK.\n",
        "    if not data[\"results\"]:\n",
        "        print(\"Empty JSON\")\n",
        "    else:\n",
        "        \"You can extract data here\"\n",
        "\n",
        "for element in data[\"results\"]:    \n",
        "    if element[\"datatype\"] == \"TMAX\":\n",
        "      tmax_berlin_2019 = \"TMAX:\", element[\"value\"], \"°C\", element[\"date\"]\n",
        "      print(tmax_berlin_2019)\n",
        "\n"
      ],
      "execution_count": 2,
      "outputs": [
        {
          "output_type": "stream",
          "name": "stdout",
          "text": [
            "('TMAX:', 8.5, '°C', '2019-01-01T00:00:00')\n",
            "('TMAX:', 3.5, '°C', '2019-01-02T00:00:00')\n",
            "('TMAX:', 1.5, '°C', '2019-01-03T00:00:00')\n",
            "('TMAX:', 4.7, '°C', '2019-01-04T00:00:00')\n",
            "('TMAX:', 7.9, '°C', '2019-01-05T00:00:00')\n",
            "('TMAX:', 3.3, '°C', '2019-01-06T00:00:00')\n",
            "('TMAX:', 5.6, '°C', '2019-01-07T00:00:00')\n",
            "('TMAX:', 6.0, '°C', '2019-01-08T00:00:00')\n",
            "('TMAX:', 2.9, '°C', '2019-01-09T00:00:00')\n",
            "('TMAX:', 2.0, '°C', '2019-01-10T00:00:00')\n",
            "('TMAX:', 5.4, '°C', '2019-01-11T00:00:00')\n",
            "('TMAX:', 5.8, '°C', '2019-01-12T00:00:00')\n",
            "('TMAX:', 7.9, '°C', '2019-01-13T00:00:00')\n",
            "('TMAX:', 6.0, '°C', '2019-01-14T00:00:00')\n",
            "('TMAX:', 6.5, '°C', '2019-01-15T00:00:00')\n",
            "('TMAX:', 7.0, '°C', '2019-01-16T00:00:00')\n",
            "('TMAX:', 7.3, '°C', '2019-01-17T00:00:00')\n",
            "('TMAX:', 2.1, '°C', '2019-01-18T00:00:00')\n",
            "('TMAX:', 3.3, '°C', '2019-01-19T00:00:00')\n",
            "('TMAX:', 1.9, '°C', '2019-01-20T00:00:00')\n",
            "('TMAX:', -2.0, '°C', '2019-01-21T00:00:00')\n",
            "('TMAX:', 0.7, '°C', '2019-01-22T00:00:00')\n",
            "('TMAX:', -3.5, '°C', '2019-01-23T00:00:00')\n",
            "('TMAX:', -3.3, '°C', '2019-01-24T00:00:00')\n",
            "('TMAX:', -2.3, '°C', '2019-01-25T00:00:00')\n",
            "('TMAX:', 3.6, '°C', '2019-01-26T00:00:00')\n",
            "('TMAX:', 6.0, '°C', '2019-01-27T00:00:00')\n",
            "('TMAX:', 5.7, '°C', '2019-01-28T00:00:00')\n",
            "('TMAX:', 3.2, '°C', '2019-01-29T00:00:00')\n",
            "('TMAX:', 3.1, '°C', '2019-01-30T00:00:00')\n",
            "('TMAX:', 4.7, '°C', '2019-01-31T00:00:00')\n"
          ]
        }
      ]
    },
    {
      "cell_type": "code",
      "metadata": {
        "id": "MqSyplwtGCuQ",
        "colab": {
          "base_uri": "https://localhost:8080/"
        },
        "outputId": "200b2ac0-317a-4630-89f3-fffa230df18c"
      },
      "source": [
        "lista_vacia = []\n",
        "for element in data[\"results\"]:    \n",
        "  if element[\"datatype\"] == \"TMAX\":\n",
        "      tmax = element\n",
        "      lista_vacia.append(tmax)\n",
        "lista_temp = []\n",
        "for i in range(len(lista_vacia)):\n",
        "    lista_temp.append(lista_vacia[i][\"value\"])\n",
        "print(lista_temp)\n",
        "suma = 0\n",
        "for element in lista_temp:\n",
        "    suma = element + suma\n",
        "promedio = round(suma / len(lista_temp), 2)\n"
      ],
      "execution_count": 13,
      "outputs": [
        {
          "output_type": "stream",
          "name": "stdout",
          "text": [
            "[8.5, 3.5, 1.5, 4.7, 7.9, 3.3, 5.6, 6.0, 2.9, 2.0, 5.4, 5.8, 7.9, 6.0, 6.5, 7.0, 7.3, 2.1, 3.3, 1.9, -2.0, 0.7, -3.5, -3.3, -2.3, 3.6, 6.0, 5.7, 3.2, 3.1, 4.7]\n",
            "115.0\n",
            "3.71\n"
          ]
        }
      ]
    },
    {
      "cell_type": "code",
      "metadata": {
        "id": "rGQhZPW41jVZ"
      },
      "source": [
        ""
      ],
      "execution_count": null,
      "outputs": []
    },
    {
      "cell_type": "markdown",
      "metadata": {
        "id": "sH0urlSQgBdJ"
      },
      "source": [
        "Observar que cada elemento de  `resultados` es un diccionario y en ese diccionario  estan las claves`date`, `datatype` y `value`. \n",
        "- `date` indica el día. \n",
        "- Si el `datatype` es `TMAX`,  entonces `value` indica la temperatura máxima del día.\n",
        "- Si el `datatype` es `TMIN`,  entonces `value` indica la temperatura mínima del día.\n",
        "- Si el `datatype` es `TAVG`,  entonces `value` indica la temperatura promedio del día.\n",
        "- Si el `datatype` es `PRCP`,  entonces `value` indica la precipitación (en mm) de ese día. "
      ]
    },
    {
      "cell_type": "markdown",
      "metadata": {
        "id": "LCzARcZ_GNvP"
      },
      "source": [
        "**Enunciado del ejercicio**\n",
        "\n",
        "Trataremos de obtener información  meteorológica utilizando el dataset GHCND,  que es el de los sumarios diarios. \n",
        "\n",
        "Sean las siguientes estaciones meteorológicas: \n",
        "- `AR000087129` - Santiago del Estero \n",
        "- `AR000087155` - Resistencia Aero \n",
        "- `AR000087418` - Mendoza Aero \n",
        "- `AR000875850` - Buenos Aires Observ \n",
        "- `AR000877500` - Bahia Blanca Aero \n",
        "- `ITM00016110` - Trieste \n",
        "- `GM000003319` - Berlin-Dahlem  \n",
        "- `UKE00105888` - Edinburgh: Royal Botanic Garden \n",
        "\n",
        "Utilizando la API obtener el promedio de temperaturas máximas en cada estación  del mes de enero de 1970 y del mes de enero de 2019 e imprimir la diferencia.    \n",
        "\n",
        "Deberían definirse las siguientes funciones y a partir de ellas obtener lo que se pide en el ejercicio.\n",
        "\n",
        "\n",
        "\n"
      ]
    },
    {
      "cell_type": "code",
      "metadata": {
        "id": "Q_jlUeb3wTgR"
      },
      "source": [
        ""
      ],
      "execution_count": null,
      "outputs": []
    },
    {
      "cell_type": "code",
      "metadata": {
        "id": "Ot-Iccx5PCLE"
      },
      "source": [
        "def recuperar_mes(estacion, anho, mes):\n",
        "    # pre: estacion = codigo de la NOAA, anho = AAAA, mes = MM\n",
        "    # post: devuelve los resultados de la llamada al NOAA de año/mes en estacion\n",
        "    lista_vacia = []\n",
        "    for element in data[\"results\"]:    \n",
        "        if element[\"datatype\"] == \"TMAX\":\n",
        "            tmax = element\n",
        "            lista_vacia.append(tmax)\n",
        "    \n",
        "\n",
        "\n",
        "def devolver_prom_tmax(estacion, anho, mes):\n",
        "    # pre: estacion = codigo de la NOAA, anho = AAAA, mes = MM\n",
        "    # post: devuelve el promedio de temperaturas máxima de anho/mes en estación\n",
        "    lista_vacia = []\n",
        "    for element in data[\"results\"]:    \n",
        "      if element[\"datatype\"] == \"TMAX\":\n",
        "          tmax = element\n",
        "          lista_vacia.append(tmax)\n",
        "    lista_temp = []\n",
        "    for i in range(len(lista_vacia)):\n",
        "        lista_temp.append(lista_vacia[i][\"value\"])\n",
        "    suma = 0\n",
        "    for element in lista_temp:\n",
        "        suma = element + suma\n",
        "    promedio = round(suma / len(lista_temp), 2)\n"
      ],
      "execution_count": null,
      "outputs": []
    },
    {
      "cell_type": "markdown",
      "metadata": {
        "id": "L3wJZx7LE64H"
      },
      "source": [
        "Es importante destacar que a veces el llamado por la API nos puede devolver \"ausencia de datos\",  es decir no nos devuelve nada útil a ser considerado un dato. El programa que ustedes escriban debe considerar esos casos."
      ]
    }
  ]
}